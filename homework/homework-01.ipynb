{
  "cells": [
    {
      "cell_type": "markdown",
      "metadata": {
        "id": "view-in-github",
        "colab_type": "text"
      },
      "source": [
        "<a href=\"https://colab.research.google.com/github/JoshuaCapron64/CSE-280/blob/main/homework/homework-01.ipynb\" target=\"_parent\"><img src=\"https://colab.research.google.com/assets/colab-badge.svg\" alt=\"Open In Colab\"/></a>"
      ]
    },
    {
      "cell_type": "markdown",
      "metadata": {
        "id": "_Mr3AvSgSswx"
      },
      "source": [
        "# Homework 1 - Propositions & Logic"
      ]
    },
    {
      "cell_type": "markdown",
      "metadata": {
        "id": "sFwo1yJhuKVn"
      },
      "source": [
        "**Instructions:** Complete the exercises below.\n",
        "\n",
        "1. Make a copy of this Colab Notebook using **`File -> Save a copy in Drive`**. \n",
        "\n",
        "2. By default, your copy of the notebook will be saved in your [Google Drive](https://drive.google.com/drive/my-drive) under the folder **`Colab Notebooks`**. You will need to share this folder with your instructor and any TAs so they will be able to view your homework. \n",
        "\n",
        "    **Follow the instructions [in this video](https://video.byui.edu/media/t/1_skwfqkzs) to share your `Colab Notebooks` folder with the instructor and TAs and to finish setting up Colab to properly save your work.**\n",
        "\n",
        "3. Click the settings icon in the top-right corner of the Colab window. Make sure the box `New notebooks use private outputs (omit outputs when saving)` is NOT checked. This will make sure any Python output is saved with your notebook.\n",
        "\n",
        "    ![alt text](https://github.com/byui-cse/cse280-course-notebooks/blob/main/homework/settings.png?raw=1)\n",
        "    \n",
        "4. Now proceed to answer the exercise questions below. Type your answers to each question by double-clicking on **`Your Answer`** and typing your response.\n",
        "\n",
        "    Note that you can use any combination of plain text, Markdown, or LaTeX. As a last resort, you can simply take a picture of your handwritten work and upload it to an answer cell below.\n",
        "\n",
        "5. To submit your work, turn in the URL for your Colab notebook."
      ]
    },
    {
      "cell_type": "markdown",
      "metadata": {
        "id": "bEsUKV6DbbhB"
      },
      "source": [
        "**Note**:\n",
        "Sample solutions are provided in order to help you **learn**. The purpose of these exercises is not to simply turn in the answers, but to take the time and effort to learn and understand the material. You are encouraged to work the problems first, then when you are satisfied that you have the correct answer, look at the sample solution and compare it with yours. "
      ]
    },
    {
      "cell_type": "markdown",
      "metadata": {
        "id": "00lPDos0uKVq"
      },
      "source": [
        "### Exercise 1.1"
      ]
    },
    {
      "cell_type": "markdown",
      "metadata": {
        "id": "2pcAJcFCYS42"
      },
      "source": [
        "Write three propositions and three non-propositions."
      ]
    },
    {
      "cell_type": "markdown",
      "metadata": {
        "id": "-IQ3CFfKuKVr"
      },
      "source": [
        "#### Your Answer:\n",
        "Propositions:\n",
        "1. I am a man\n",
        "2. BYU-I is an effective school\n",
        "3. Completing homework leads to good grades.\n",
        "\n",
        "\n",
        "Non-propositions:\n",
        "1. Why can't I put this under the title without a space?\n",
        "2. Didn't it work for the first half?\n",
        "3. Please tell me.\n",
        "\n",
        "\n",
        "Nevermind, I figured it out, somehow."
      ]
    },
    {
      "cell_type": "markdown",
      "metadata": {
        "id": "cka7gs7GBS72"
      },
      "source": [
        "### Exercise 1.2"
      ]
    },
    {
      "cell_type": "markdown",
      "metadata": {
        "id": "mbd0-wcaBoAi"
      },
      "source": [
        "Let $p$ be the proposition \"I studied.\" and $q$ be the proposition \"I got an A on the test.\" Express the following symbolic propositions in English:\n",
        "1. $p \\land q$.\n",
        "2. $\\lnot p \\land q$.\n",
        "3. $p \\land \\lnot q$.\n",
        "4. $\\lnot p \\land \\lnot q$.\n",
        "5. $p \\lor q$.\n",
        "6. $\\lnot p \\lor q$.\n",
        "7. $p \\lor \\lnot q$.\n",
        "8. $\\lnot p \\lor \\lnot q$.\n"
      ]
    },
    {
      "cell_type": "markdown",
      "metadata": {
        "id": "rmTcXOdQuKVt"
      },
      "source": [
        "#### Your Answer:\n",
        "1. I studied, and I got an A on the test.\n",
        "2. I didn't study, but I did get an A on the test.\n",
        "3. I studied, but I didn't gegt an A on the test.\n",
        "4. I didn't study, so I didn't get an A on the test.\n",
        "5. Either I studied, or I got an A on the test.\n",
        "6. Either I didn't study, or I got an A on the test.\n",
        "7. Either I studied, or I didn't get an A on the test.\n",
        "8. Either I didn't study, or I didn't get an A on the test."
      ]
    },
    {
      "cell_type": "markdown",
      "metadata": {
        "id": "RA3nTBfMYYUm"
      },
      "source": [
        "### Exercise 1.3"
      ]
    },
    {
      "cell_type": "markdown",
      "metadata": {
        "id": "B5CMZM5MYYUn"
      },
      "source": [
        "Construct truth tables for the following propositions:\n",
        "1. $p \\land q$\n",
        "2. $p \\lor q$\n",
        "3. $\\lnot p \\lor q$\n",
        "4. $p \\land \\lnot q$\n",
        "\n",
        "This is a chance to practice using either LaTeX or Markdown to construct tables. Just \"Google\" it!\n",
        "\n",
        "Or you can draw them by hand, then take a picture. The point is to practice creating them. You may create a single large truth table or six smaller truth tables.\n",
        "\n",
        "(If you take a picture, you can add it to Colab by opening a new **text** cell, then click on the \"Insert Image\" button)"
      ]
    },
    {
      "cell_type": "markdown",
      "metadata": {
        "id": "j2LkP5k_uKVu"
      },
      "source": [
        "Here is an example of how to create a table using Markdown (double-click on cell to see source):\n",
        "\n",
        "| p | q | p $\\land$ q |\n",
        "|---|---|:-:|\n",
        "|T|T|T|\n",
        "|T|F|F|\n",
        "|F|T|F|\n",
        "|F|F|F|\n",
        "\n",
        "The `---` and `:-:` parts of the table control the column alignment. `:-:` tells the column to be centered."
      ]
    },
    {
      "cell_type": "markdown",
      "metadata": {
        "id": "WYUNNq8huKVu"
      },
      "source": [
        "And this is how to create a table using LaTeX:\n",
        "$$\n",
        "\\begin{array}{|r|r|c|}\n",
        "\\hline\n",
        "p & q & p \\land q\\\\\n",
        "\\hline\n",
        "T&T&T\\\\\n",
        "T&F&F\\\\\n",
        "F&T&F\\\\\n",
        "F&F&F\\\\\n",
        "\\hline\n",
        "\\end{array}\n",
        "$$\n",
        "\n",
        "The `|r|r|c|` part controls each column's alignment. In this case: right, right, center. The `$$` at the beginning and end allow multi-line LaTeX code. Code set in `$$` blocks will be centered on the page."
      ]
    },
    {
      "cell_type": "markdown",
      "metadata": {
        "id": "Ylm2r89buKVv"
      },
      "source": [
        "#### Your Answer:"
      ]
    },
    {
      "cell_type": "markdown",
      "source": [],
      "metadata": {
        "id": "mLGdXAKpxwrV"
      }
    },
    {
      "cell_type": "markdown",
      "metadata": {
        "id": "XCObcIL2uKVv"
      },
      "source": [
        "### Exercise 1.4"
      ]
    },
    {
      "cell_type": "markdown",
      "metadata": {
        "id": "Rdtv778suKVv"
      },
      "source": [
        "Python has built in logical operators for **or**, **and**, and **not**. Using these operators, write a Python function called `xor` to implement the **exclusive or** operation. Your `xor` function should take two arguments. (Use the code block below and replace the part that says \"`# Your code here`\")"
      ]
    },
    {
      "cell_type": "markdown",
      "metadata": {
        "id": "7mhXJq3huKVv"
      },
      "source": [
        "#### Your Answer:"
      ]
    },
    {
      "cell_type": "code",
      "execution_count": null,
      "metadata": {
        "id": "QcdgG343uKVw"
      },
      "outputs": [],
      "source": [
        "# Create an xor function\n",
        "def xor(p, q):\n",
        "  return (p and not q) or (q and not p)"
      ]
    },
    {
      "cell_type": "markdown",
      "metadata": {
        "id": "a0WXSgoOuKVx"
      },
      "source": [
        "After creating your `xor` function, run the following code block, which should result in a truth table for **exclusive or**."
      ]
    },
    {
      "cell_type": "code",
      "execution_count": 6,
      "metadata": {
        "id": "D_QV4svRuKVx",
        "outputId": "2785c3ef-9ae8-4633-e37d-ca53dcef7aec",
        "colab": {
          "base_uri": "https://localhost:8080/",
          "height": 252
        }
      },
      "outputs": [
        {
          "output_type": "stream",
          "name": "stdout",
          "text": [
            "p       q       p xor q\n"
          ]
        },
        {
          "output_type": "error",
          "ename": "NameError",
          "evalue": "ignored",
          "traceback": [
            "\u001b[0;31m---------------------------------------------------------------------------\u001b[0m",
            "\u001b[0;31mNameError\u001b[0m                                 Traceback (most recent call last)",
            "\u001b[0;32m<ipython-input-6-dc4572d65654>\u001b[0m in \u001b[0;36m<module>\u001b[0;34m\u001b[0m\n\u001b[1;32m      2\u001b[0m \u001b[0mprint\u001b[0m\u001b[0;34m(\u001b[0m\u001b[0;34mf'p       q       p xor q'\u001b[0m\u001b[0;34m)\u001b[0m\u001b[0;34m\u001b[0m\u001b[0;34m\u001b[0m\u001b[0m\n\u001b[1;32m      3\u001b[0m \u001b[0;32mfor\u001b[0m \u001b[0;34m(\u001b[0m\u001b[0mp\u001b[0m\u001b[0;34m,\u001b[0m\u001b[0mq\u001b[0m\u001b[0;34m)\u001b[0m \u001b[0;32min\u001b[0m \u001b[0;34m[\u001b[0m\u001b[0;34m(\u001b[0m\u001b[0mp\u001b[0m\u001b[0;34m,\u001b[0m\u001b[0mq\u001b[0m\u001b[0;34m)\u001b[0m \u001b[0;32mfor\u001b[0m \u001b[0mp\u001b[0m \u001b[0;32min\u001b[0m \u001b[0;34m[\u001b[0m\u001b[0;32mTrue\u001b[0m\u001b[0;34m,\u001b[0m \u001b[0;32mFalse\u001b[0m\u001b[0;34m]\u001b[0m \u001b[0;32mfor\u001b[0m \u001b[0mq\u001b[0m \u001b[0;32min\u001b[0m \u001b[0;34m[\u001b[0m\u001b[0;32mTrue\u001b[0m\u001b[0;34m,\u001b[0m \u001b[0;32mFalse\u001b[0m\u001b[0;34m]\u001b[0m\u001b[0;34m]\u001b[0m\u001b[0;34m:\u001b[0m\u001b[0;34m\u001b[0m\u001b[0;34m\u001b[0m\u001b[0m\n\u001b[0;32m----> 4\u001b[0;31m   \u001b[0mprint\u001b[0m\u001b[0;34m(\u001b[0m\u001b[0;34mf'{p!s:<8}{q!s:<8}{xor(p,q)!s:<8}'\u001b[0m\u001b[0;34m)\u001b[0m\u001b[0;34m\u001b[0m\u001b[0;34m\u001b[0m\u001b[0m\n\u001b[0m\u001b[1;32m      5\u001b[0m \u001b[0;34m\u001b[0m\u001b[0m\n\u001b[1;32m      6\u001b[0m \u001b[0;34m\u001b[0m\u001b[0m\n",
            "\u001b[0;31mNameError\u001b[0m: name 'xor' is not defined"
          ]
        }
      ],
      "source": [
        "# Print a truth table for p xor q\n",
        "print(f'p       q       p xor q')\n",
        "for (p,q) in [(p,q) for p in [True, False] for q in [True, False]]:\n",
        "  print(f'{p!s:<8}{q!s:<8}{xor(p,q)!s:<8}')\n",
        "\n",
        "\n",
        "# Should result in output like this:\n",
        "# p       q       p xor q\n",
        "# True    True    False   \n",
        "# True    False   True    \n",
        "# False   True    True    \n",
        "# False   False   False "
      ]
    },
    {
      "cell_type": "markdown",
      "metadata": {
        "id": "2p2Y3jwYuKVy"
      },
      "source": [
        "### Exercise 1.5"
      ]
    },
    {
      "cell_type": "markdown",
      "metadata": {
        "id": "uOwEvcvouKVy"
      },
      "source": [
        "Explore logical operations in Python by using Python to generate a truth table for the following propositions:\n",
        "1. $p \\land q$\n",
        "2. $p \\lor q$\n",
        "3. $\\lnot p \\lor q$\n",
        "4. $p \\land \\lnot q$\n",
        "5. $p \\oplus \\lnot q$\n",
        "6. $\\lnot p \\oplus \\lnot q$\n",
        "\n",
        "Compare your Python result with the tables you created in Exercise 1.3.\n",
        "\n",
        "You may need to use the `xor` function you created previously."
      ]
    },
    {
      "cell_type": "markdown",
      "metadata": {
        "id": "b91nN_3JuKVy"
      },
      "source": [
        "#### Your Answer:"
      ]
    },
    {
      "cell_type": "markdown",
      "metadata": {
        "id": "HCjgnJwTbbhN"
      },
      "source": [
        "----------------------\n",
        "## Sample Solutions\n",
        "\n",
        "**Note**:\n",
        "Sample solutions are provided in order to help you **learn**. The purpose of these exercises is not to simply turn in the answers, but to take the time and effort to learn and understand the material. You are encouraged to work the problems first, then when you are satisfied that you have the correct answer, look at the sample solution and compare it with yours. "
      ]
    },
    {
      "cell_type": "markdown",
      "metadata": {
        "id": "IMlNL8zvuKVz"
      },
      "source": [
        "### Sample Solution 1.1"
      ]
    },
    {
      "cell_type": "markdown",
      "metadata": {
        "id": "CNA4lyKVuKVz"
      },
      "source": [
        "Three propositions:\n",
        "\n",
        "1. The sky is blue.\n",
        "2. It is raining.\n",
        "3. Snow is white.\n",
        "\n",
        "Three non-propositions:\n",
        "\n",
        "1. Do you like pizza?\n",
        "2. Pick up your toys.\n",
        "3. Go to the store."
      ]
    },
    {
      "cell_type": "markdown",
      "metadata": {
        "id": "6k1jLsk4uKVz"
      },
      "source": [
        "### Sample Solution 1.2"
      ]
    },
    {
      "cell_type": "markdown",
      "metadata": {
        "id": "WKVe5-lFuKV0"
      },
      "source": [
        "1. I studied and I got an A on the test.\n",
        "2. I did not study and I got an A on the test.\n",
        "3. I studied but I did not get an A on the test. (Logically speaking, \"but\" means \"and\" --- and it sounds better here.)\n",
        "4. I did not study and I did not get an A on the test.\n",
        "5. I studied or I got an A on the test.\n",
        "6. I did not study or I got an A on the test.\n",
        "7. I studied or I did not get an A on the test.\n",
        "8. I did not study or I did not get an A on the test."
      ]
    },
    {
      "cell_type": "markdown",
      "metadata": {
        "id": "NSi0I57suKV0"
      },
      "source": [
        "### Sample Solution 1.3"
      ]
    },
    {
      "cell_type": "markdown",
      "metadata": {
        "id": "gVij5w9guKV0"
      },
      "source": [
        "Using LaTeX:\n",
        "\n",
        "1. $\\begin{array}{|r|c|}\n",
        "\\hline \n",
        "p & p \\land p \\\\ \n",
        "\\hline \\hline \n",
        "0 & 0 \\\\ \n",
        "1 & 1 \\\\ \n",
        "\\hline \n",
        "\\end{array}\n",
        "$\n",
        "\n",
        "2. $\\begin{array}{|r|c|}\\hline p & p \\lor p\\\\ \\hline \\hline 0 & 0 \\\\ 1 & 1 \\\\ \\hline \\end{array}$\n",
        "\n",
        "3. $\\begin{array}{|r|r|c|}\\hline p & q & \\lnot p \\lor q\\\\ \\hline \\hline 0 & 0 & 1\\\\ 0 & 1 & 1\\\\ 1 & 0 & 0\\\\ 1 & 1 & 1\\\\ \\hline\\end{array}$\n",
        "\n",
        "4. $\\begin{array}{|r|r|c|}\\hline p & q & p \\land \\lnot q\\\\ \\hline \\hline 0 & 0 & 0\\\\ 0 & 1 & 0\\\\ 1 & 0 & 1\\\\ 1 & 1 & 0\\\\ \\hline\\end{array}$\n",
        "\n",
        "\n",
        "\n",
        "A few examples using Markdown:\n",
        "\n",
        "$p \\land p$ \n",
        "\n",
        "|p|p $\\land$ p|\n",
        "|-|:-:|\n",
        "|0|0|\n",
        "|1|1|\n",
        "\n",
        "$p \\land (q \\oplus \\lnot r)$\n",
        "\n",
        "|p|$\\land$| (q | $\\oplus$ | $\\lnot$ | r) |\n",
        "|:-:|:-:|:-:|:-:|:-:|:-:|\n",
        "|0 |0 |0 |1 |1 |0 |\n",
        "|0 |0 |0 |0 |0 |1 |\n",
        "|0 |0 |1 |0 |1 |0 |\n",
        "|0 |0 |1 |1 |0 |1 |\n",
        "|1 |1 |0 |1 |1 |0 |\n",
        "|1 |0 |0 |0 |0 |1 |\n",
        "|1 |0 |1 |0 |1 |0 |\n",
        "|1 |1 |1 |1 |0 |1 |"
      ]
    },
    {
      "cell_type": "markdown",
      "metadata": {
        "id": "SRxTf5CyuKV0"
      },
      "source": [
        "### Sample Solution 1.4"
      ]
    },
    {
      "cell_type": "code",
      "execution_count": null,
      "metadata": {
        "id": "1FkY3WamuKV1"
      },
      "outputs": [],
      "source": [
        "def xor(p, q):\n",
        "    return (p and not q) or (q and not p)\n",
        "    # return p != q # another way\n",
        "    # return not (p == q)  # another way\n",
        "    #return not p if q else p   # another way\n",
        "\n",
        "# Another way, using a lambda function\n",
        "xor = lambda p, q: p != q"
      ]
    },
    {
      "cell_type": "markdown",
      "metadata": {
        "id": "4wR8LHNTuKV1"
      },
      "source": [
        "### Sample Solution 1.5:"
      ]
    },
    {
      "cell_type": "code",
      "execution_count": null,
      "metadata": {
        "id": "oxNjJ9_BuKV1",
        "outputId": "f990b9db-9580-4f42-8445-9db41b5eefe0"
      },
      "outputs": [
        {
          "name": "stdout",
          "output_type": "stream",
          "text": [
            "p       q       not p or q   p and not q    p xor not q            not p xor not q\n",
            "True    True    True         False          True                   False     \n",
            "True    False   False        True           False                  True      \n",
            "False   True    True         False          False                  True      \n",
            "False   False   True         False          True                   False     \n"
          ]
        }
      ],
      "source": [
        "print(f'p       q       not p or q   p and not q    p xor not q            not p xor not q')\n",
        "values = [(p,q) for p in [True, False] for q in [True, False]]\n",
        "for (p,q) in values:\n",
        "    print(f'{p!s:<8}{q!s:<8}{not p or q!s:<13}{p and not q!s:<15}{xor(p, not q)!s:<23}{xor(not p, not q)!s:<10}')"
      ]
    }
  ],
  "metadata": {
    "colab": {
      "collapsed_sections": [
        "HCjgnJwTbbhN"
      ],
      "name": "cse280-homework-01.ipynb",
      "provenance": [],
      "toc_visible": true,
      "include_colab_link": true
    },
    "kernelspec": {
      "display_name": "Python 3.9.0 ('.env': venv)",
      "language": "python",
      "name": "python3"
    },
    "language_info": {
      "codemirror_mode": {
        "name": "ipython",
        "version": 3
      },
      "file_extension": ".py",
      "mimetype": "text/x-python",
      "name": "python",
      "nbconvert_exporter": "python",
      "pygments_lexer": "ipython3",
      "version": "3.9.0"
    },
    "vscode": {
      "interpreter": {
        "hash": "1977c1262a5a71e57f8e1e2a9337f4268800bf2d1a595fc1ecb322ccb8b2351d"
      }
    }
  },
  "nbformat": 4,
  "nbformat_minor": 0
}